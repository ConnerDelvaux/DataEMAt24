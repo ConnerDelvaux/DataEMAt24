{
 "cells": [
  {
   "cell_type": "markdown",
   "id": "60f9ffb0-caae-45fe-a3b0-862d45577a50",
   "metadata": {},
   "source": [
    "The general plan is to analyze the relationship between water fluoridation and dental health outcomes across selected U.S. states. I will compare the percentage of each state's population with access to fluoridated water to the percentage of adults aged 65+ who have lost six or more teeth due to tooth decay or gum disease, as well as to the state's overall ranking in oral health, to identify potential correlations."
   ]
  },
  {
   "cell_type": "code",
   "execution_count": 78,
   "id": "57ed9b3e-03d0-42b4-952e-94cdfd586ce6",
   "metadata": {},
   "outputs": [],
   "source": [
    "import pandas as pd\n",
    "import json\n",
    "import requests\n",
    "import base64\n",
    "import matplotlib.pyplot as plt\n",
    "import six\n",
    "import statsmodels.formula.api as smf\n",
    "import numpy as np"
   ]
  },
  {
   "cell_type": "code",
   "execution_count": 85,
   "id": "29caaee5-c028-46f0-bf9a-4f082af8d5cd",
   "metadata": {},
   "outputs": [
    {
     "data": {
      "text/html": [
       "<div>\n",
       "<style scoped>\n",
       "    .dataframe tbody tr th:only-of-type {\n",
       "        vertical-align: middle;\n",
       "    }\n",
       "\n",
       "    .dataframe tbody tr th {\n",
       "        vertical-align: top;\n",
       "    }\n",
       "\n",
       "    .dataframe thead th {\n",
       "        text-align: right;\n",
       "    }\n",
       "</style>\n",
       "<table border=\"1\" class=\"dataframe\">\n",
       "  <thead>\n",
       "    <tr style=\"text-align: right;\">\n",
       "      <th></th>\n",
       "      <th>Year</th>\n",
       "      <th>LocationDesc</th>\n",
       "      <th>Parent1</th>\n",
       "      <th>Indicator</th>\n",
       "      <th>Response</th>\n",
       "      <th>Data_Value_Unit</th>\n",
       "      <th>Data_Value</th>\n",
       "    </tr>\n",
       "  </thead>\n",
       "  <tbody>\n",
       "    <tr>\n",
       "      <th>0</th>\n",
       "      <td>2020.0</td>\n",
       "      <td>Pennsylvania</td>\n",
       "      <td>Adult</td>\n",
       "      <td>Adults aged 65+ who have lost six or more teet...</td>\n",
       "      <td>Yes</td>\n",
       "      <td>%</td>\n",
       "      <td>36.1</td>\n",
       "    </tr>\n",
       "    <tr>\n",
       "      <th>1</th>\n",
       "      <td>2020.0</td>\n",
       "      <td>Pennsylvania</td>\n",
       "      <td>Adult</td>\n",
       "      <td>Adults aged 65+ who have lost six or more teet...</td>\n",
       "      <td>No</td>\n",
       "      <td>%</td>\n",
       "      <td>63.9</td>\n",
       "    </tr>\n",
       "  </tbody>\n",
       "</table>\n",
       "</div>"
      ],
      "text/plain": [
       "     Year  LocationDesc Parent1  \\\n",
       "0  2020.0  Pennsylvania   Adult   \n",
       "1  2020.0  Pennsylvania   Adult   \n",
       "\n",
       "                                           Indicator Response Data_Value_Unit  \\\n",
       "0  Adults aged 65+ who have lost six or more teet...      Yes               %   \n",
       "1  Adults aged 65+ who have lost six or more teet...       No               %   \n",
       "\n",
       "   Data_Value  \n",
       "0        36.1  \n",
       "1        63.9  "
      ]
     },
     "execution_count": 85,
     "metadata": {},
     "output_type": "execute_result"
    }
   ],
   "source": [
    "\n",
    "PaData = pd.read_csv( r\"C:\\Users\\conne\\Downloads\\ExportCSV.csv\")\n",
    "PaData = PaData.drop(columns=['LocationAbbr','Datasource','Data_Value_Type','Data_Value_Footnote_Symbol','Low_Confidence_Limit','High_Confidence_Limit','Stratification','StratificationType','Sample_Size','IndicatorID','DatasourceText','DatasourceURL','Global_Footnote','Suggested_Citation','Data_Value_Footnote'])\n",
    "PaData.head(2)"
   ]
  },
  {
   "cell_type": "code",
   "execution_count": 80,
   "id": "b0479810-2932-49ca-810f-f3bb80b04f59",
   "metadata": {},
   "outputs": [
    {
     "data": {
      "text/plain": [
       "Index(['Year', 'LocationDesc', 'Parent1', 'Indicator', 'Data_Value_Unit',\n",
       "       'Data_Value'],\n",
       "      dtype='object')"
      ]
     },
     "execution_count": 80,
     "metadata": {},
     "output_type": "execute_result"
    }
   ],
   "source": [
    "PaData.keys()"
   ]
  },
  {
   "cell_type": "code",
   "execution_count": 100,
   "id": "7db95880-9655-489f-94d7-5f4b5697f8a8",
   "metadata": {
    "scrolled": true
   },
   "outputs": [
    {
     "data": {
      "text/html": [
       "<div>\n",
       "<style scoped>\n",
       "    .dataframe tbody tr th:only-of-type {\n",
       "        vertical-align: middle;\n",
       "    }\n",
       "\n",
       "    .dataframe tbody tr th {\n",
       "        vertical-align: top;\n",
       "    }\n",
       "\n",
       "    .dataframe thead th {\n",
       "        text-align: right;\n",
       "    }\n",
       "</style>\n",
       "<table border=\"1\" class=\"dataframe\">\n",
       "  <thead>\n",
       "    <tr style=\"text-align: right;\">\n",
       "      <th></th>\n",
       "      <th>Year</th>\n",
       "      <th>LocationDesc</th>\n",
       "      <th>Parent1</th>\n",
       "      <th>Indicator</th>\n",
       "      <th>Data_Value_Unit</th>\n",
       "      <th>Data_Value_Type</th>\n",
       "      <th>Data_Value</th>\n",
       "      <th>Type</th>\n",
       "    </tr>\n",
       "  </thead>\n",
       "  <tbody>\n",
       "    <tr>\n",
       "      <th>0</th>\n",
       "      <td>2020.0</td>\n",
       "      <td>Pennsylvania</td>\n",
       "      <td>Water Fluoridation</td>\n",
       "      <td>Percentage of PWS population receiving fluorid...</td>\n",
       "      <td>%</td>\n",
       "      <td>Percent</td>\n",
       "      <td>60.0</td>\n",
       "      <td>Fluoridated</td>\n",
       "    </tr>\n",
       "    <tr>\n",
       "      <th>4</th>\n",
       "      <td>2020.0</td>\n",
       "      <td>Pennsylvania</td>\n",
       "      <td>Water Fluoridation</td>\n",
       "      <td>Percentage of PWS population receiving water f...</td>\n",
       "      <td>%</td>\n",
       "      <td>Percent</td>\n",
       "      <td>40.0</td>\n",
       "      <td>Non-Fluoridated¹</td>\n",
       "    </tr>\n",
       "    <tr>\n",
       "      <th>5</th>\n",
       "      <td>NaN</td>\n",
       "      <td>NaN</td>\n",
       "      <td>NaN</td>\n",
       "      <td>NaN</td>\n",
       "      <td>NaN</td>\n",
       "      <td>NaN</td>\n",
       "      <td>NaN</td>\n",
       "      <td>NaN</td>\n",
       "    </tr>\n",
       "    <tr>\n",
       "      <th>6</th>\n",
       "      <td>NaN</td>\n",
       "      <td>NaN</td>\n",
       "      <td>NaN</td>\n",
       "      <td>NaN</td>\n",
       "      <td>NaN</td>\n",
       "      <td>NaN</td>\n",
       "      <td>NaN</td>\n",
       "      <td>NaN</td>\n",
       "    </tr>\n",
       "    <tr>\n",
       "      <th>7</th>\n",
       "      <td>NaN</td>\n",
       "      <td>NaN</td>\n",
       "      <td>NaN</td>\n",
       "      <td>NaN</td>\n",
       "      <td>NaN</td>\n",
       "      <td>NaN</td>\n",
       "      <td>NaN</td>\n",
       "      <td>NaN</td>\n",
       "    </tr>\n",
       "  </tbody>\n",
       "</table>\n",
       "</div>"
      ],
      "text/plain": [
       "     Year  LocationDesc             Parent1  \\\n",
       "0  2020.0  Pennsylvania  Water Fluoridation   \n",
       "4  2020.0  Pennsylvania  Water Fluoridation   \n",
       "5     NaN           NaN                 NaN   \n",
       "6     NaN           NaN                 NaN   \n",
       "7     NaN           NaN                 NaN   \n",
       "\n",
       "                                           Indicator Data_Value_Unit  \\\n",
       "0  Percentage of PWS population receiving fluorid...               %   \n",
       "4  Percentage of PWS population receiving water f...               %   \n",
       "5                                                NaN             NaN   \n",
       "6                                                NaN             NaN   \n",
       "7                                                NaN             NaN   \n",
       "\n",
       "  Data_Value_Type  Data_Value              Type  \n",
       "0         Percent        60.0       Fluoridated  \n",
       "4         Percent        40.0  Non-Fluoridated¹  \n",
       "5             NaN         NaN               NaN  \n",
       "6             NaN         NaN               NaN  \n",
       "7             NaN         NaN               NaN  "
      ]
     },
     "execution_count": 100,
     "metadata": {},
     "output_type": "execute_result"
    }
   ],
   "source": [
    "\n",
    "Pafloride = pd.read_csv( r'C:\\Users\\conne\\Downloads\\pafloride.csv')\n",
    "Pafloride = Pafloride.drop(columns=['LocationAbbr','StateAbbr','DataSource','IndicatorId','TypeOrder','LocationOrder','DatasourceText','DatasourceURL','Global_Footnote','Suggested_Citation','Data_Value_Footnote','Data_Value_Footnote_Symbol','TypeID'])\n",
    "Pafloride = Pafloride[~Pafloride['Type'].isin(['Adjusted¹', 'Consecutive¹', 'Natural¹'])]\n",
    "Pafloride.head()"
   ]
  },
  {
   "cell_type": "markdown",
   "id": "2afc5d6b-f32a-48bd-b633-53ee9ca211a3",
   "metadata": {},
   "source": [
    "I'm not sure how to remove the bottem 3 rows besides .head(2). I feel like this is contributing to the stuggle of combining them "
   ]
  },
  {
   "cell_type": "code",
   "execution_count": 107,
   "id": "193017cd-c9c2-4352-ad31-cbeb69334049",
   "metadata": {},
   "outputs": [
    {
     "data": {
      "text/html": [
       "<div>\n",
       "<style scoped>\n",
       "    .dataframe tbody tr th:only-of-type {\n",
       "        vertical-align: middle;\n",
       "    }\n",
       "\n",
       "    .dataframe tbody tr th {\n",
       "        vertical-align: top;\n",
       "    }\n",
       "\n",
       "    .dataframe thead th {\n",
       "        text-align: right;\n",
       "    }\n",
       "</style>\n",
       "<table border=\"1\" class=\"dataframe\">\n",
       "  <thead>\n",
       "    <tr style=\"text-align: right;\">\n",
       "      <th></th>\n",
       "      <th>Year</th>\n",
       "      <th>LocationDesc</th>\n",
       "      <th>Data_Value_x</th>\n",
       "      <th>Data_Value_y</th>\n",
       "    </tr>\n",
       "  </thead>\n",
       "  <tbody>\n",
       "    <tr>\n",
       "      <th>0</th>\n",
       "      <td>2020.0</td>\n",
       "      <td>Pennsylvania</td>\n",
       "      <td>36.1</td>\n",
       "      <td>60.0</td>\n",
       "    </tr>\n",
       "    <tr>\n",
       "      <th>1</th>\n",
       "      <td>2020.0</td>\n",
       "      <td>Pennsylvania</td>\n",
       "      <td>36.1</td>\n",
       "      <td>40.0</td>\n",
       "    </tr>\n",
       "    <tr>\n",
       "      <th>2</th>\n",
       "      <td>2020.0</td>\n",
       "      <td>Pennsylvania</td>\n",
       "      <td>63.9</td>\n",
       "      <td>60.0</td>\n",
       "    </tr>\n",
       "    <tr>\n",
       "      <th>3</th>\n",
       "      <td>2020.0</td>\n",
       "      <td>Pennsylvania</td>\n",
       "      <td>63.9</td>\n",
       "      <td>40.0</td>\n",
       "    </tr>\n",
       "    <tr>\n",
       "      <th>4</th>\n",
       "      <td>NaN</td>\n",
       "      <td>NaN</td>\n",
       "      <td>NaN</td>\n",
       "      <td>NaN</td>\n",
       "    </tr>\n",
       "  </tbody>\n",
       "</table>\n",
       "</div>"
      ],
      "text/plain": [
       "     Year  LocationDesc  Data_Value_x  Data_Value_y\n",
       "0  2020.0  Pennsylvania          36.1          60.0\n",
       "1  2020.0  Pennsylvania          36.1          40.0\n",
       "2  2020.0  Pennsylvania          63.9          60.0\n",
       "3  2020.0  Pennsylvania          63.9          40.0\n",
       "4     NaN           NaN           NaN           NaN"
      ]
     },
     "execution_count": 107,
     "metadata": {},
     "output_type": "execute_result"
    }
   ],
   "source": [
    "# Merge the dataframes on 'Year' and 'LocationDesc'\n",
    "combined_data = pd.merge(PaData[['Year', 'LocationDesc', 'Data_Value']], \n",
    "                         Pafloride[['Year', 'LocationDesc', 'Data_Value']], \n",
    "                         on=['Year', 'LocationDesc'])\n",
    "\n",
    "# View the first few rows of the combined data\n",
    "combined_data.head()\n"
   ]
  },
  {
   "cell_type": "markdown",
   "id": "7c3d0e7a-cd79-400b-940a-1ab9fc694ce3",
   "metadata": {},
   "source": [
    "I've been having a lot of trouble trying to combine the data, It seems to show the same data twice. The main struggle that I'm trying to navigate is that both data frames represent 2 different things and I'm not sure how to combine them without taking away from what they represent. "
   ]
  },
  {
   "cell_type": "code",
   "execution_count": null,
   "id": "33ecf377-4a5a-45f2-bc41-54d16b5f49c1",
   "metadata": {},
   "outputs": [],
   "source": []
  },
  {
   "cell_type": "code",
   "execution_count": null,
   "id": "858e13f4-a79f-4fdf-b827-e020cd21dacc",
   "metadata": {},
   "outputs": [],
   "source": []
  },
  {
   "cell_type": "code",
   "execution_count": null,
   "id": "335afc20-d0d2-41c6-9f6d-04bf8e24bcfa",
   "metadata": {},
   "outputs": [],
   "source": []
  }
 ],
 "metadata": {
  "kernelspec": {
   "display_name": "Python 3 (ipykernel)",
   "language": "python",
   "name": "python3"
  },
  "language_info": {
   "codemirror_mode": {
    "name": "ipython",
    "version": 3
   },
   "file_extension": ".py",
   "mimetype": "text/x-python",
   "name": "python",
   "nbconvert_exporter": "python",
   "pygments_lexer": "ipython3",
   "version": "3.12.3"
  }
 },
 "nbformat": 4,
 "nbformat_minor": 5
}

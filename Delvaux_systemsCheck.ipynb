{
 "cells": [
  {
   "cell_type": "markdown",
   "id": "de10b95f-bccd-4707-bbd7-7142640b72c9",
   "metadata": {},
   "source": [
    "# Level 1 Heading\n",
    "## Level 2 Heading\n",
    "### Level 3 Heading \n",
    "\n",
    "I hope to learn the following in this class:\n",
    "1. Get better at **coding**\n",
    "2. Data *Analysis*\n",
    "3. Working with application programming interfaces\n",
    "\n",
    "![Screenshot of a comment on a GitHub issue showing an image, added in the Markdown, of an Octocat smiling and raising a tentacle.](https://img.freepik.com/free-vector/modern-desktop-compute-concept-illustration_114360-12156.jpg)"
   ]
  },
  {
   "cell_type": "code",
   "execution_count": null,
   "id": "1ebaf700-b403-4c92-b4ab-aa54decb9f0f",
   "metadata": {},
   "outputs": [],
   "source": []
  },
  {
   "cell_type": "code",
   "execution_count": null,
   "id": "59b632b4-60aa-496e-a7c3-85f213e89d76",
   "metadata": {},
   "outputs": [],
   "source": []
  }
 ],
 "metadata": {
  "kernelspec": {
   "display_name": "Python 3 (ipykernel)",
   "language": "python",
   "name": "python3"
  },
  "language_info": {
   "codemirror_mode": {
    "name": "ipython",
    "version": 3
   },
   "file_extension": ".py",
   "mimetype": "text/x-python",
   "name": "python",
   "nbconvert_exporter": "python",
   "pygments_lexer": "ipython3",
   "version": "3.12.4"
  }
 },
 "nbformat": 4,
 "nbformat_minor": 5
}

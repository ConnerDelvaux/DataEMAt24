{
 "cells": [
  {
   "cell_type": "markdown",
   "id": "0e7ae16e-50a6-47f0-96e7-55b257291fa1",
   "metadata": {},
   "source": [
    "# Likes Report\n",
    "## Conner Delvaux\n",
    "## 9/13/24\n",
    "1.) The Data Comes from Dr. Silva's shared data from instagram. None of the json files used were my own data.\\\n",
    "2.) It was created so there are recored of instagram users activity.\\\n",
    "3.) It is reliable in a way that it reflects Dr. Silva's Liked instagram posts.\\\n",
    "4.) It could be reliable due to perhaps instagrams recordeing of liked post could have missed some liked posts."
   ]
  },
  {
   "cell_type": "code",
   "execution_count": 35,
   "id": "1f7babd3-c6b2-4aab-834f-c93e0f192d5b",
   "metadata": {},
   "outputs": [],
   "source": [
    "import pandas as pd\n",
    "import json"
   ]
  },
  {
   "cell_type": "code",
   "execution_count": 32,
   "id": "faee7df6-3e0f-41f7-864e-9e8397578ff8",
   "metadata": {},
   "outputs": [],
   "source": [
    "path = r\"C:\\Users\\conne\\Downloads\\liked_posts.json\"\n",
    "\n",
    "with open (path) as j:\n",
    "    liked_data= json.load (j)"
   ]
  },
  {
   "cell_type": "code",
   "execution_count": 33,
   "id": "ea3642ff-e990-4c3e-a61c-1eafd5d69b84",
   "metadata": {},
   "outputs": [
    {
     "data": {
      "text/plain": [
       "dict_keys(['likes_media_likes'])"
      ]
     },
     "execution_count": 33,
     "metadata": {},
     "output_type": "execute_result"
    }
   ],
   "source": [
    "liked_data.keys()"
   ]
  },
  {
   "cell_type": "markdown",
   "id": "977b92ca-8557-41c0-baa0-a739ee32ffe6",
   "metadata": {},
   "source": []
  },
  {
   "cell_type": "code",
   "execution_count": 44,
   "id": "ba863cf6-dbba-4d44-a2ec-b3fd4fd27a6d",
   "metadata": {},
   "outputs": [
    {
     "data": {
      "text/html": [
       "<div>\n",
       "<style scoped>\n",
       "    .dataframe tbody tr th:only-of-type {\n",
       "        vertical-align: middle;\n",
       "    }\n",
       "\n",
       "    .dataframe tbody tr th {\n",
       "        vertical-align: top;\n",
       "    }\n",
       "\n",
       "    .dataframe thead th {\n",
       "        text-align: right;\n",
       "    }\n",
       "</style>\n",
       "<table border=\"1\" class=\"dataframe\">\n",
       "  <thead>\n",
       "    <tr style=\"text-align: right;\">\n",
       "      <th></th>\n",
       "      <th>title</th>\n",
       "      <th>string_list_data</th>\n",
       "    </tr>\n",
       "  </thead>\n",
       "  <tbody>\n",
       "    <tr>\n",
       "      <th>0</th>\n",
       "      <td>gu.comm.unity</td>\n",
       "      <td>[{'href': 'https://www.instagram.com/p/C-UPsph...</td>\n",
       "    </tr>\n",
       "    <tr>\n",
       "      <th>1</th>\n",
       "      <td>gonzagacas</td>\n",
       "      <td>[{'href': 'https://www.instagram.com/p/C-N3u6t...</td>\n",
       "    </tr>\n",
       "    <tr>\n",
       "      <th>2</th>\n",
       "      <td>batotoyetuportugal</td>\n",
       "      <td>[{'href': 'https://www.instagram.com/p/C97vrPf...</td>\n",
       "    </tr>\n",
       "    <tr>\n",
       "      <th>3</th>\n",
       "      <td>melissarohwer</td>\n",
       "      <td>[{'href': 'https://www.instagram.com/reel/C92v...</td>\n",
       "    </tr>\n",
       "    <tr>\n",
       "      <th>4</th>\n",
       "      <td>catsandkilos</td>\n",
       "      <td>[{'href': 'https://www.instagram.com/p/C90VZRF...</td>\n",
       "    </tr>\n",
       "  </tbody>\n",
       "</table>\n",
       "</div>"
      ],
      "text/plain": [
       "                title                                   string_list_data\n",
       "0       gu.comm.unity  [{'href': 'https://www.instagram.com/p/C-UPsph...\n",
       "1          gonzagacas  [{'href': 'https://www.instagram.com/p/C-N3u6t...\n",
       "2  batotoyetuportugal  [{'href': 'https://www.instagram.com/p/C97vrPf...\n",
       "3       melissarohwer  [{'href': 'https://www.instagram.com/reel/C92v...\n",
       "4        catsandkilos  [{'href': 'https://www.instagram.com/p/C90VZRF..."
      ]
     },
     "execution_count": 44,
     "metadata": {},
     "output_type": "execute_result"
    }
   ],
   "source": [
    "liked_data_df = pd.DataFrame(liked_data['likes_media_likes'])\n",
    "\n",
    "liked_data_df.head()"
   ]
  },
  {
   "cell_type": "markdown",
   "id": "e7952d61-f868-4b1d-b742-f4fb10589185",
   "metadata": {},
   "source": [
    "My hypothesis is that the new instagram json file I will use will also have the same format as the liked post file. The New file I will be using is a instagram topic json. The theoretical element is that instagram might use similar structures when storing personal data to keep it consistant. The statistical elememt is by examining the data frames and observing if both are of simlar nature.\n"
   ]
  },
  {
   "cell_type": "code",
   "execution_count": 36,
   "id": "a5e25e48-6b92-4134-8314-3314be5626fb",
   "metadata": {},
   "outputs": [],
   "source": [
    "path = r\"C:\\Users\\conne\\Downloads\\your_topics.json\"\n",
    "\n",
    "with open (path) as h:\n",
    "    feed= json.load (h)"
   ]
  },
  {
   "cell_type": "code",
   "execution_count": 37,
   "id": "ff863165-4e4e-48a3-8958-919dab880a80",
   "metadata": {},
   "outputs": [
    {
     "data": {
      "text/plain": [
       "dict_keys(['topics_your_topics'])"
      ]
     },
     "execution_count": 37,
     "metadata": {},
     "output_type": "execute_result"
    }
   ],
   "source": [
    "feed.keys()"
   ]
  },
  {
   "cell_type": "code",
   "execution_count": 43,
   "id": "8626ebe9-9204-4a1f-be3c-b25786e5205a",
   "metadata": {},
   "outputs": [
    {
     "data": {
      "text/html": [
       "<div>\n",
       "<style scoped>\n",
       "    .dataframe tbody tr th:only-of-type {\n",
       "        vertical-align: middle;\n",
       "    }\n",
       "\n",
       "    .dataframe tbody tr th {\n",
       "        vertical-align: top;\n",
       "    }\n",
       "\n",
       "    .dataframe thead th {\n",
       "        text-align: right;\n",
       "    }\n",
       "</style>\n",
       "<table border=\"1\" class=\"dataframe\">\n",
       "  <thead>\n",
       "    <tr style=\"text-align: right;\">\n",
       "      <th></th>\n",
       "      <th>title</th>\n",
       "      <th>media_map_data</th>\n",
       "      <th>string_map_data</th>\n",
       "    </tr>\n",
       "  </thead>\n",
       "  <tbody>\n",
       "    <tr>\n",
       "      <th>0</th>\n",
       "      <td></td>\n",
       "      <td>{}</td>\n",
       "      <td>{'Name': {'href': '', 'value': 'Basketball', '...</td>\n",
       "    </tr>\n",
       "    <tr>\n",
       "      <th>1</th>\n",
       "      <td></td>\n",
       "      <td>{}</td>\n",
       "      <td>{'Name': {'href': '', 'value': 'Science &amp; Engi...</td>\n",
       "    </tr>\n",
       "    <tr>\n",
       "      <th>2</th>\n",
       "      <td></td>\n",
       "      <td>{}</td>\n",
       "      <td>{'Name': {'href': '', 'value': 'Footwear Produ...</td>\n",
       "    </tr>\n",
       "    <tr>\n",
       "      <th>3</th>\n",
       "      <td></td>\n",
       "      <td>{}</td>\n",
       "      <td>{'Name': {'href': '', 'value': 'Foods', 'times...</td>\n",
       "    </tr>\n",
       "    <tr>\n",
       "      <th>4</th>\n",
       "      <td></td>\n",
       "      <td>{}</td>\n",
       "      <td>{'Name': {'href': '', 'value': 'TV &amp; Movies Ce...</td>\n",
       "    </tr>\n",
       "    <tr>\n",
       "      <th>5</th>\n",
       "      <td></td>\n",
       "      <td>{}</td>\n",
       "      <td>{'Name': {'href': '', 'value': 'Video Games', ...</td>\n",
       "    </tr>\n",
       "    <tr>\n",
       "      <th>6</th>\n",
       "      <td></td>\n",
       "      <td>{}</td>\n",
       "      <td>{'Name': {'href': '', 'value': 'Fashion Produc...</td>\n",
       "    </tr>\n",
       "    <tr>\n",
       "      <th>7</th>\n",
       "      <td></td>\n",
       "      <td>{}</td>\n",
       "      <td>{'Name': {'href': '', 'value': 'Yoga', 'timest...</td>\n",
       "    </tr>\n",
       "    <tr>\n",
       "      <th>8</th>\n",
       "      <td></td>\n",
       "      <td>{}</td>\n",
       "      <td>{'Name': {'href': '', 'value': 'Ground Transpo...</td>\n",
       "    </tr>\n",
       "    <tr>\n",
       "      <th>9</th>\n",
       "      <td></td>\n",
       "      <td>{}</td>\n",
       "      <td>{'Name': {'href': '', 'value': 'Gym Workouts',...</td>\n",
       "    </tr>\n",
       "  </tbody>\n",
       "</table>\n",
       "</div>"
      ],
      "text/plain": [
       "  title media_map_data                                    string_map_data\n",
       "0                   {}  {'Name': {'href': '', 'value': 'Basketball', '...\n",
       "1                   {}  {'Name': {'href': '', 'value': 'Science & Engi...\n",
       "2                   {}  {'Name': {'href': '', 'value': 'Footwear Produ...\n",
       "3                   {}  {'Name': {'href': '', 'value': 'Foods', 'times...\n",
       "4                   {}  {'Name': {'href': '', 'value': 'TV & Movies Ce...\n",
       "5                   {}  {'Name': {'href': '', 'value': 'Video Games', ...\n",
       "6                   {}  {'Name': {'href': '', 'value': 'Fashion Produc...\n",
       "7                   {}  {'Name': {'href': '', 'value': 'Yoga', 'timest...\n",
       "8                   {}  {'Name': {'href': '', 'value': 'Ground Transpo...\n",
       "9                   {}  {'Name': {'href': '', 'value': 'Gym Workouts',..."
      ]
     },
     "execution_count": 43,
     "metadata": {},
     "output_type": "execute_result"
    }
   ],
   "source": [
    "feed_df = pd.DataFrame(feed['topics_your_topics'])\n",
    "\n",
    "feed_df.head(10)"
   ]
  },
  {
   "cell_type": "markdown",
   "id": "4d5c640e-6ae5-43a6-9854-7d474fa9b497",
   "metadata": {},
   "source": [
    "The data created form this file seems to include 2 columns with data. The first being media_map_data. There seems to be nothing data wise in this, maybe because there was no represented data in the file. The string_map_data hold information regarding the users topics like name, href (link) and value. Value seems to be where the topic of data on instgram is held like Basketball,Foods, and Video Games. I would say that there is evidence to support my hypothesis, both hold all its data in string data. Although, the topic json uses a map format and the likes holds it as a list.   "
   ]
  },
  {
   "cell_type": "markdown",
   "id": "83cea434-9d3c-43d1-b0ca-27672c51e016",
   "metadata": {},
   "source": [
    "The next steps for me to impove would be to learn how to extract the elemets in the json files and show them in the dataframe. I understand I was supposed to do this for the liked post file but I could'nt figure it out. It also would have made the topics dataframe a lot more neat and tidy if I did so. \t"
   ]
  }
 ],
 "metadata": {
  "kernelspec": {
   "display_name": "Python 3 (ipykernel)",
   "language": "python",
   "name": "python3"
  },
  "language_info": {
   "codemirror_mode": {
    "name": "ipython",
    "version": 3
   },
   "file_extension": ".py",
   "mimetype": "text/x-python",
   "name": "python",
   "nbconvert_exporter": "python",
   "pygments_lexer": "ipython3",
   "version": "3.12.4"
  }
 },
 "nbformat": 4,
 "nbformat_minor": 5
}
